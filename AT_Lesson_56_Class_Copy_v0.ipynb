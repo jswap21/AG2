{
  "nbformat": 4,
  "nbformat_minor": 0,
  "metadata": {
    "colab": {
      "provenance": [],
      "include_colab_link": true
    },
    "kernelspec": {
      "name": "python3",
      "display_name": "Python 3"
    }
  },
  "cells": [
    {
      "cell_type": "markdown",
      "metadata": {
        "id": "view-in-github",
        "colab_type": "text"
      },
      "source": [
        "<a href=\"https://colab.research.google.com/github/jswap21/AG2/blob/master/AT_Lesson_56_Class_Copy_v0.ipynb\" target=\"_parent\"><img src=\"https://colab.research.google.com/assets/colab-badge.svg\" alt=\"Open In Colab\"/></a>"
      ]
    },
    {
      "cell_type": "markdown",
      "metadata": {
        "id": "wXOH90ddtwL2"
      },
      "source": [
        "# Lesson 56: OOP - Polymorphism I\n"
      ]
    },
    {
      "cell_type": "markdown",
      "metadata": {
        "id": "GbhgAn5kfd-K"
      },
      "source": [
        "### Teacher-Student Activities\n",
        "\n",
        "In this class, we will learn another concept of object-oriented programming called **Polymorphism**.\n",
        "\n",
        "Polymorphism is taken from the Greek words poly (many) and morphism (forms). Polymorphism means different forms of the same thing. In programming, the things that can take different forms for different objects are functions and operators.\n",
        "\n",
        "In Python, there are four types of Polymorphism:\n",
        "\n",
        "1. Operator Overloading\n",
        "\n",
        "2. Method Overloading\n",
        "\n",
        "3. Method Overriding\n",
        "\n",
        "4. Duck Typing\n",
        "\n",
        "But we are going to learn only the first three because they are used most of the time.\n",
        " \n",
        " \n",
        "Let's understand the three different types of Polymorphism with the help of a few examples.\n"
      ]
    },
    {
      "cell_type": "markdown",
      "metadata": {
        "id": "DP-8XrZ_i2yZ"
      },
      "source": [
        "---"
      ]
    },
    {
      "cell_type": "markdown",
      "metadata": {
        "id": "o0FdjEBJ59DS"
      },
      "source": [
        "#### Activity 1: Operator Overloading^\n",
        " \n",
        "Operator overloading means extending the meaning of the arithmetic operators (like `+`, `-`, `/` etc.) besides their original function.\n",
        " \n",
        "**Why do we need operator overloading?**\n",
        "\n",
        "Recap Python lists class. We learned that arithmetic operators don't work on Python lists in the same way they work on a NumPy array. So if we have to perform such arithmetic operations on list items we have to either convert the list into an array or use the `for` loop. But we can create a whole new numeric data-structure out of the Python list on which we can perform arithmetic operations. We can do this with the help of operator overloading.\n",
        "\n",
        "**Note:** The code below will throw `TypeError`.\n"
      ]
    },
    {
      "cell_type": "code",
      "metadata": {
        "id": "FwCojKfEzgPt"
      },
      "source": [
        "# S1.1: Create two numeric list of three items each and perform mathematical operations on them\n",
        "\n",
        "# Create two lists\n",
        "\n",
        "# Add the two lists using '+' operator and save it in a variable and print the result\n",
        "\n",
        "# Multiply the two lists using '*' operator and save it in a variable and print the result\n"
      ],
      "execution_count": null,
      "outputs": []
    },
    {
      "cell_type": "markdown",
      "metadata": {
        "id": "wLwl2hvz04xh"
      },
      "source": [
        "As it can be observed in the output, when we try to \n",
        "\n",
        "- Add corresponding items of two lists, we get a concatenated list.\n",
        "\n",
        "- Multiply the corresponding items of two lists, we get `TypeError` because the `*` operator is **not defined** for Python lists.\n",
        "\n",
        "\n",
        "This is because every Python class has some predefined **magic functions** which give meaning to arithmetic operators.\n",
        "\n",
        "**For Example**\n",
        "- `+` operator has `__add__()` magic function\n",
        "- `*` operator has `__mul__()` magic function\n",
        "\n",
        "**Note:** In Python, the functions having two underscores at prefix and suffix are called magic functions.\n",
        "\n"
      ]
    },
    {
      "cell_type": "code",
      "metadata": {
        "id": "QZgv0HKLFrwu"
      },
      "source": [
        "# T1.1: Apply the '__add__()' function on two integers, strings and list objects one-by-one.\n"
      ],
      "execution_count": null,
      "outputs": []
    },
    {
      "cell_type": "markdown",
      "metadata": {
        "id": "XWPZeQSyaQAq"
      },
      "source": [
        "As you can see, the `__add__()` function in the case of\n",
        "\n",
        "- Integer objects, add their values\n",
        "\n",
        "- String objects, concatenates them\n",
        "\n",
        "- Python list objects, concatenates them\n",
        "\n",
        "You can use the `__dict__` attribute to get a dictionary of all the attributes and magic methods associated with a class."
      ]
    },
    {
      "cell_type": "code",
      "metadata": {
        "id": "p6VrHY-4IWz9"
      },
      "source": [
        "# S1.2: Get the dictionary of all the attributes and magic methods associated with either int, str, float, list etc.\n"
      ],
      "execution_count": null,
      "outputs": []
    },
    {
      "cell_type": "markdown",
      "metadata": {
        "id": "OC5kUy0KITsx"
      },
      "source": [
        "Now let's get back to our requirement of a new data-structure which behaves like a NumPy array on applying the arithmetic operations such as addition, subtraction, etc.\n",
        "\n",
        "To get started, let's create a class called `MyList` in which the constructor initialises the `my_list` variable which will contain a list of numeric items.\n",
        "\n",
        "The class needs to have the following functions:\n",
        "\n",
        "- > `__add__()`: to **add** the corresponding items two of `MyList` objects one-by-one. It should accept two `MyList` objects for the addition operation. \n",
        "\n",
        "- > `__sub__()`: to **subtract** the corresponding items two of `MyList` objects one-by-one.\n",
        "\n",
        "- > `__mul__()`: to **multiply** the corresponding items two of `MyList` objects one-by-one.\n",
        "\n",
        "\n",
        "- > `__truediv__()`: to **divide** the corresponding items two of `MyList` objects one-by-one. \n",
        "\n",
        "  > All the above four functions should first check whether both the `MyList` objects have the same length or not.\n",
        "\n",
        "- > `get_my_list()`: to return the value stored in the `my_list` variable if it has items otherwise throw an error with the `\"List does not exist.\"` message.\n",
        "\n",
        "**Note:** These methods will work on the current object of the class `MyList` as one operand and will take another object of `MyList` as the second operand, both lists being of the same size. They will return a result list which will also be the object of the `MyList` class."
      ]
    },
    {
      "cell_type": "code",
      "metadata": {
        "id": "3skOE_hqq5g7"
      },
      "source": [
        "# T1.2: Create the 'MyList' class having only the 'my_list' variable, '__add__()' and 'get_my_list()' functions.\n"
      ],
      "execution_count": null,
      "outputs": []
    },
    {
      "cell_type": "markdown",
      "metadata": {
        "id": "PmPtxWPpt64T"
      },
      "source": [
        "Similarly, you define the other three magic methods for the `MyList` class. However in the case of `__truediv__()` method, in addition to checking the length of lists, also check whether the divisor list contains `0` or not. If it does contain `0` as an item, then return `\"Division by 0 is not possible.\"` message. Otherwise, the function should perform the division operation."
      ]
    },
    {
      "cell_type": "code",
      "metadata": {
        "id": "CYHysB1D548o"
      },
      "source": [
        "# S1.3: Add the remaining magic methods to the 'MyList' class.\n"
      ],
      "execution_count": null,
      "outputs": []
    },
    {
      "cell_type": "markdown",
      "metadata": {
        "id": "5EG-4f5Xlgts"
      },
      "source": [
        "Now let's test all the methods of the updated `MyList` class, except the `__add__()` method as we have already tested it before."
      ]
    },
    {
      "cell_type": "code",
      "metadata": {
        "id": "sH-Jqx2O8MIS"
      },
      "source": [
        "# S1.4: Test all the methods of the updated MyList class, except the '__add__()' method.\n",
        "\n",
        "# 1. Create two objects and call them 'my_lst1' and 'my_lst2'.\n",
        "\n",
        "# 2. Print the lists stored in both the MyList objects using the 'get_my_list()' function.\n",
        "\n",
        "# 3. Subtract the items of the MyList objects (created above) using the '-' operator and save the result in a variable.\n",
        "\n",
        "# 4. Multiply the items of the MyList objects (created above) using the '*' operator and save the result in a variable.\n",
        "\n",
        "# 5. Divide the items of the MyList objects (created above) using the '/' operator and save the result in a variable.\n",
        "\n",
        "# 6. Print the object variables created in the above steps\n"
      ],
      "execution_count": null,
      "outputs": []
    },
    {
      "cell_type": "markdown",
      "metadata": {
        "id": "_2bhGzWN-AmP"
      },
      "source": [
        "In this way, we have successfully created a new data structure based on a Python list that behaves like a NumPy array on applying the arithmetic operators using the concept of **operator overloading**.\n",
        "\n",
        "Let's look at the next form of Polymorphism wherein we can alter the functionality of the same method."
      ]
    },
    {
      "cell_type": "markdown",
      "metadata": {
        "id": "Xe-4scR5WNHk"
      },
      "source": [
        "---"
      ]
    },
    {
      "cell_type": "markdown",
      "metadata": {
        "id": "VHv9mklY_CYu"
      },
      "source": [
        "#### Activity 2: Method Overloading^^\n",
        " \n",
        "In Python, you can create a method/function that can be called in different ways. You can create a method that has zero, one or more number of parameters. Depending on the method definition, we can call it with zero, one or more arguments.\n",
        "\n",
        "This process of calling the same method in different ways is called method or function overloading.\n",
        "\n",
        "To overload a user-defined function in Python, we need to write the logic of the function in such a way that, depending upon the parameters passed, a different piece of code executes inside the function.\n",
        "\n",
        "Let's understand it with a very nominal example:\n",
        "\n",
        "Create a class called `Television` having a function `change_channel()`. This function must accept one parameter `channel_name` which is set to `None`. This will give us the option to call `change_channel()` function with or without a parameter.\n",
        "\n",
        " "
      ]
    },
    {
      "cell_type": "code",
      "metadata": {
        "id": "gx5pTdoa57ob"
      },
      "source": [
        "# S2.1: Create the 'Television' class having 'change_channel()' method with zero or one argument.\n"
      ],
      "execution_count": null,
      "outputs": []
    },
    {
      "cell_type": "markdown",
      "metadata": {
        "id": "NZDivcBzGcNq"
      },
      "source": [
        "Let's create an object of the `Television` class and call the `change_channel()` method by providing different inputs."
      ]
    },
    {
      "cell_type": "code",
      "metadata": {
        "id": "cU4zozW8Gbwa"
      },
      "source": [
        "# S2.2: Create an object of the 'Television' class and call the 'change_channel()' method by providing different inputs.\n"
      ],
      "execution_count": null,
      "outputs": []
    },
    {
      "cell_type": "markdown",
      "metadata": {
        "id": "b-sOWYsG_WmX"
      },
      "source": [
        "We can see that by calling the same function with different inputs, we got different outputs for the same object of the `Television` class.\n",
        "\n",
        "However, if we define multiple functions with the same name, the later one always overloads the prior and hence, we can use only the latest defined method. \n",
        "\n",
        "\n",
        "To understand this, create the `Television` class again having two variants of the `change_channel()` method, one variant will take one input and the other one doesn't take any input.\n",
        "\n",
        "**Note:** The code below will throw `TypeError`."
      ]
    },
    {
      "cell_type": "code",
      "metadata": {
        "id": "jlITg2vf_T5m"
      },
      "source": [
        "# T2.1: Create the 'Television' class again having the second variant of 'change_channel()' method.\n",
        "\n"
      ],
      "execution_count": null,
      "outputs": []
    },
    {
      "cell_type": "markdown",
      "metadata": {
        "id": "ruCtuvJl25wV"
      },
      "source": [
        "As you can see, the latest appearance of the `change_channel()` function doesn't require any input from the user. Hence, the latest appearance has overloaded the previous appearances. Hence, calling any of the previous variant would throw `TypeError`.\n",
        "\n",
        "Create the `Television` class again having both the variants of `change_channel()` method but swap the positions of both the variants.\n",
        "\n",
        "**Note:** The code below will throw `TypeError`."
      ]
    },
    {
      "cell_type": "code",
      "metadata": {
        "id": "FsJ3QNVX6M6w"
      },
      "source": [
        "# T2.2: Create the 'Television' class but swap the positions of the first and the second variant of the 'change_channel()' function.\n"
      ],
      "execution_count": null,
      "outputs": []
    },
    {
      "cell_type": "markdown",
      "metadata": {
        "id": "ZyUPTD3B8Fge"
      },
      "source": [
        "This time, the latest appearance of the `change_channel()` function requires an input. Hence the execution of the first variant gave the `TyepError` because it doesn't accept any input. Hence, the second variant overloaded the first variant.\n"
      ]
    },
    {
      "cell_type": "markdown",
      "metadata": {
        "id": "DDSKSzZzJWm3"
      },
      "source": [
        "\n",
        " \n",
        "Let's stop here. In the next class, we will learn another type of polymorphism called **method overriding**."
      ]
    },
    {
      "cell_type": "markdown",
      "metadata": {
        "id": "f4kZXEHo54i6"
      },
      "source": [
        "---"
      ]
    },
    {
      "cell_type": "markdown",
      "metadata": {
        "id": "yxUp5FEm7O77"
      },
      "source": [
        "### **Project**\n",
        "You can now attempt the **Applied Tech. Project 56 - Polymorphism I** on your own.\n",
        "\n",
        "**Applied Tech. Project 56 - Polymorphism I**: https://colab.research.google.com/drive/1Tms4FUViMTmiOaPPfqSww0HuGv_HRcor?usp=sharing"
      ]
    },
    {
      "cell_type": "markdown",
      "metadata": {
        "id": "d2mx9qWJ7WBR"
      },
      "source": [
        "---"
      ]
    }
  ]
}